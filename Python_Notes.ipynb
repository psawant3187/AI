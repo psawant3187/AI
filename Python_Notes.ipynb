{
 "cells": [
  {
   "cell_type": "markdown",
   "metadata": {},
   "source": [
    "Basic Python Notes"
   ]
  },
  {
   "cell_type": "code",
   "execution_count": 2,
   "metadata": {},
   "outputs": [
    {
     "name": "stdout",
     "output_type": "stream",
     "text": [
      "Hello World\n",
      "221\n"
     ]
    }
   ],
   "source": [
    "print(\"Hello World\")\n",
    "print(17*13)"
   ]
  },
  {
   "cell_type": "markdown",
   "metadata": {},
   "source": [
    "1.Comments, Escape sequence and Print in Python."
   ]
  },
  {
   "cell_type": "code",
   "execution_count": 3,
   "metadata": {},
   "outputs": [
    {
     "name": "stdout",
     "output_type": "stream",
     "text": [
      "My name is Pranit\n",
      "and this is Pranit\n",
      "30\n"
     ]
    }
   ],
   "source": [
    "print(\"My name is Pranit\\nand this is Pranit\") #Do Not Remove this line.\n",
    "#This is Pranit\n",
    "print(2+4*7)"
   ]
  },
  {
   "cell_type": "markdown",
   "metadata": {},
   "source": [
    "a.Escape Sequence Characters."
   ]
  },
  {
   "cell_type": "code",
   "execution_count": 4,
   "metadata": {},
   "outputs": [
    {
     "name": "stdout",
     "output_type": "stream",
     "text": [
      "I'm not in \"Danger\"\n",
      "I'm the \"Danger\"\n"
     ]
    }
   ],
   "source": [
    "print(\"I'm not in \\\"Danger\\\"\\nI'm the \\\"Danger\\\"\")"
   ]
  },
  {
   "cell_type": "markdown",
   "metadata": {},
   "source": [
    "a.1. Separator."
   ]
  },
  {
   "cell_type": "code",
   "execution_count": 5,
   "metadata": {},
   "outputs": [
    {
     "name": "stdout",
     "output_type": "stream",
     "text": [
      "Hey~6~7 099\n",
      " Pranit\n"
     ]
    }
   ],
   "source": [
    "print(\"Hey\",6,7,sep=\"~\",end=\" 099\\n \")\n",
    "print(\"Pranit\")"
   ]
  },
  {
   "cell_type": "markdown",
   "metadata": {},
   "source": [
    "2.Data Types"
   ]
  },
  {
   "cell_type": "code",
   "execution_count": 6,
   "metadata": {},
   "outputs": [
    {
     "name": "stdout",
     "output_type": "stream",
     "text": [
      "265649418841\n",
      "Pranit\n"
     ]
    }
   ],
   "source": [
    "a=265649418841\n",
    "print(a)\n",
    "b=\"Pranit\"\n",
    "print(b)"
   ]
  },
  {
   "cell_type": "markdown",
   "metadata": {},
   "source": [
    "a.2.To Identify data type."
   ]
  },
  {
   "cell_type": "code",
   "execution_count": 7,
   "metadata": {},
   "outputs": [
    {
     "name": "stdout",
     "output_type": "stream",
     "text": [
      "The Type of a is <class 'float'>\n",
      "The Type of a is <class 'complex'>\n",
      "The Type of b is <class 'str'>\n",
      "The Type of c is <class 'bool'>\n",
      "The Type of d is <class 'NoneType'>\n"
     ]
    }
   ],
   "source": [
    "a=2656.49418841\n",
    "a1=complex(8,2)\n",
    "b=\"Pranit\"\n",
    "c=True\n",
    "d=None\n",
    "print(\"The Type of a is\",type(a)) #To idntify the datatype of the Data.\n",
    "print(\"The Type of a is\",type(a1))\n",
    "print(\"The Type of b is\",type(b))\n",
    "print(\"The Type of c is\",type(c))\n",
    "print(\"The Type of d is\",type(d))"
   ]
  },
  {
   "cell_type": "markdown",
   "metadata": {},
   "source": [
    "Only Same datatypes gets add."
   ]
  },
  {
   "cell_type": "code",
   "execution_count": 8,
   "metadata": {},
   "outputs": [
    {
     "name": "stdout",
     "output_type": "stream",
     "text": [
      "132\n"
     ]
    }
   ],
   "source": [
    "a=123\n",
    "a1=9\n",
    "b=\"Pranit\"\n",
    "# print(a+b) Will Never Work\n",
    "print(a+a1)"
   ]
  },
  {
   "cell_type": "markdown",
   "metadata": {},
   "source": [
    "3.Arithmetic Operators:\n",
    "1. Addition :- 15+7\n",
    "2. Subtraction :- 15-7\n",
    "3. Multiplication :-15*7\n",
    "4. Exponential:- 15/7\n",
    "5. Modulus :- 15%7 # Returns remainder.\n",
    "6. Floor Division :-15//7 #Only Returns Integer Value."
   ]
  },
  {
   "cell_type": "code",
   "execution_count": 9,
   "metadata": {},
   "outputs": [
    {
     "name": "stdout",
     "output_type": "stream",
     "text": [
      "22\n",
      "8\n",
      "105\n",
      "2.142857142857143\n",
      "1\n",
      "2\n"
     ]
    }
   ],
   "source": [
    "print(15+7)\n",
    "print(15-7)\n",
    "print(15*7)\n",
    "print(15/7)\n",
    "print(15%7)\n",
    "print(15//7)"
   ]
  },
  {
   "cell_type": "markdown",
   "metadata": {},
   "source": [
    "Exercise 1: Create Calculator using while loop."
   ]
  },
  {
   "cell_type": "code",
   "execution_count": null,
   "metadata": {},
   "outputs": [],
   "source": [
    "#defining functions\n",
    "def add(a,b):\n",
    "    solnadd= a+b\n",
    "    print(\"Solution after Adding two numbers is:\",solnadd)\n",
    "\n",
    "def sub(a,b):\n",
    "    solnsub = a-b\n",
    "    print(\"Solution after Subtracting two numbers is:\",solnsub)\n",
    "\n",
    "def multi(a,b):\n",
    "    solnmulti = a*b\n",
    "    print(\"Solution after Multiplying two numbers is:\",solnmulti)\n",
    "\n",
    "def div(a,b):\n",
    "    solndiv = a/b\n",
    "    print(\"Solution after Dividing two numbers is:\",solndiv)\n",
    "\n",
    "print(\"WELCOME TO CALCULATOR\")\n",
    "\n",
    "#creating Menu\n",
    "while True:\n",
    "    print(\"\\n MAIN MENU\")  \n",
    "    print(\"1. ADD \\n\")  \n",
    "    print(\"2. SUBTRACT \\n\")  \n",
    "    print(\"3. MULTIPLY \\n\")  \n",
    "    print(\"4. DIVIDE \\n\")  \n",
    "    choice = int(input(\"Enter the Choice:\")) \n",
    "\n",
    "    if choice==1:\n",
    "        a = int(input(\"Enter the First Number:\"))\n",
    "        b = int(input(\"Enter the Second Number:\"))\n",
    "        add(a,b)\n",
    "\n",
    "    elif choice==2:\n",
    "        a = int(input(\"Enter the First Number:\"))\n",
    "        b = int(input(\"Enter the Second Number:\"))\n",
    "        sub(a,b)\n",
    "\n",
    "    elif choice==3:\n",
    "        a = int(input(\"Enter the First Number:\"))\n",
    "        b = int(input(\"Enter the Second Number:\"))\n",
    "        multi(a,b)\n",
    "\n",
    "    elif choice==4:\n",
    "        a = int(input(\"Enter the First Number:\"))\n",
    "        b = int(input(\"Enter the Second Number:\"))\n",
    "        div(a,b)\n",
    "\n",
    "    else:\n",
    "        print(\"Invalid Choice M*****Fucker\")"
   ]
  },
  {
   "cell_type": "markdown",
   "metadata": {},
   "source": [
    "For Output Check First Program in Folder"
   ]
  },
  {
   "cell_type": "markdown",
   "metadata": {},
   "source": [
    "4. Input Types:"
   ]
  },
  {
   "cell_type": "code",
   "execution_count": 13,
   "metadata": {},
   "outputs": [
    {
     "name": "stdout",
     "output_type": "stream",
     "text": [
      "Hello  Pranit\n"
     ]
    }
   ],
   "source": [
    "# to take input from user\n",
    "name = input(\"Enter your Name:\")\n",
    "print(\"Hello \"+name) # This called String Concat\n",
    "\n",
    "num = int(input(\"Enter the number:\")) #To take number as a Input.It is also called as Type Conversion."
   ]
  },
  {
   "cell_type": "markdown",
   "metadata": {},
   "source": [
    "5. Type Conversion"
   ]
  },
  {
   "cell_type": "code",
   "execution_count": 15,
   "metadata": {},
   "outputs": [
    {
     "name": "stdout",
     "output_type": "stream",
     "text": [
      "20\n"
     ]
    }
   ],
   "source": [
    "#For Integer value\n",
    "birth_year = int(input(\"Enter your Birth Year:\"))\n",
    "age = 2023 - birth_year\n",
    "print(age)"
   ]
  },
  {
   "cell_type": "markdown",
   "metadata": {},
   "source": [
    "6. String Methods:\n",
    "\n",
    "1.Upper_Case(): to change the string into UPPERCASE!"
   ]
  },
  {
   "cell_type": "code",
   "execution_count": 1,
   "metadata": {},
   "outputs": [
    {
     "name": "stdout",
     "output_type": "stream",
     "text": [
      "PYTHON FOR BEGINNERS\n"
     ]
    }
   ],
   "source": [
    "# Returns the String in Uppercase.\n",
    "course = \"Python for Beginners\"\n",
    "print(course.upper())"
   ]
  },
  {
   "cell_type": "markdown",
   "metadata": {},
   "source": [
    "2. Lower_Case():to change the string into lowercase!"
   ]
  },
  {
   "cell_type": "code",
   "execution_count": 2,
   "metadata": {},
   "outputs": [
    {
     "name": "stdout",
     "output_type": "stream",
     "text": [
      "python for beginners\n"
     ]
    }
   ],
   "source": [
    "#Returns the String in Lowercase.\n",
    "course = \"Python for Beginners\"\n",
    "print(course.lower())"
   ]
  },
  {
   "cell_type": "markdown",
   "metadata": {},
   "source": [
    "3.Find(): to find or search desired object in string."
   ]
  },
  {
   "cell_type": "code",
   "execution_count": 3,
   "metadata": {},
   "outputs": [
    {
     "name": "stdout",
     "output_type": "stream",
     "text": [
      "7\n",
      "7\n",
      "True\n"
     ]
    }
   ],
   "source": [
    "# Returns the index number of Search letter in string.\n",
    "course = \"Python for Beginners\"\n",
    "print(course.find('f'))\n",
    "# Also works for returning index number of Searching Word inside a string.\n",
    "print(course.find('for'))\n",
    "# To check if certain word is present in Strting .\n",
    "print('for' in course)"
   ]
  },
  {
   "cell_type": "markdown",
   "metadata": {},
   "source": [
    "4.Replace():to replace word in string."
   ]
  },
  {
   "cell_type": "code",
   "execution_count": 4,
   "metadata": {},
   "outputs": [
    {
     "name": "stdout",
     "output_type": "stream",
     "text": [
      "Python 4 Beginners\n"
     ]
    }
   ],
   "source": [
    "# Replace word in string.\n",
    "course = \"Python for Beginners\"\n",
    "print(course.replace('for','4')) #it only works when replacement is string."
   ]
  },
  {
   "cell_type": "markdown",
   "metadata": {},
   "source": [
    "5.Comparison Operators:\n",
    "\n",
    "1. >(Greater Than)\n",
    "2. >=(Greater Than Equal to)\n",
    "3. <(Less Than)\n",
    "4. <=(Less than Equal to)\n",
    "5. ==(Equal to condition operator)\n",
    "6. !=(Not Equal to)"
   ]
  },
  {
   "cell_type": "markdown",
   "metadata": {},
   "source": [
    "6. Logical Operators.\n",
    "    1. and (both conditions).\n",
    "    2. or (at least one).\n",
    "    3. not ."
   ]
  },
  {
   "cell_type": "markdown",
   "metadata": {},
   "source": [
    "7. Loops\n",
    "\n",
    "    7.1.Condition IF....else statements:"
   ]
  },
  {
   "cell_type": "code",
   "execution_count": 1,
   "metadata": {},
   "outputs": [
    {
     "name": "stdout",
     "output_type": "stream",
     "text": [
      "Weight in Kgs:  76.5\n"
     ]
    }
   ],
   "source": [
    "#Weight conversion program\n",
    "weight = float(input(\"Enter your weight:\"))\n",
    "unit = str(input(\"(K)g or (L)bs:\"))\n",
    "\n",
    "if unit.upper() == \"K\":\n",
    "    converted = weight/0.45\n",
    "    print(\"Weight in Lbs is: \",converted)\n",
    "else:\n",
    "    converted = weight*0.45\n",
    "    print(\"Weight in Kgs: \",converted)\n"
   ]
  },
  {
   "cell_type": "markdown",
   "metadata": {},
   "source": [
    "7.2. While loops"
   ]
  },
  {
   "cell_type": "code",
   "execution_count": 10,
   "metadata": {},
   "outputs": [
    {
     "name": "stdout",
     "output_type": "stream",
     "text": [
      "1\n",
      "2\n",
      "3\n",
      "4\n",
      "5\n"
     ]
    }
   ],
   "source": [
    "i=1\n",
    "\n",
    "while i<=5:\n",
    "    print(i)\n",
    "    i = i + 1"
   ]
  },
  {
   "cell_type": "code",
   "execution_count": 11,
   "metadata": {},
   "outputs": [
    {
     "name": "stdout",
     "output_type": "stream",
     "text": [
      "*\n",
      "**\n",
      "***\n",
      "****\n",
      "*****\n"
     ]
    }
   ],
   "source": [
    "i=1\n",
    "\n",
    "while i<=5:\n",
    "    print(i * '*')\n",
    "    i = i + 1"
   ]
  },
  {
   "cell_type": "markdown",
   "metadata": {},
   "source": [
    "8. Lists"
   ]
  },
  {
   "cell_type": "code",
   "execution_count": 18,
   "metadata": {},
   "outputs": [
    {
     "name": "stdout",
     "output_type": "stream",
     "text": [
      "['John', 'Bob', 'Mosh', 5, 6.9]\n",
      "John\n",
      "6.9\n",
      "['John', 'Bob', 'Mosh', 5]\n",
      "['Jon', 'Bob', 'Mosh', 5, 6.9]\n"
     ]
    }
   ],
   "source": [
    "#How to write list in Python.\n",
    "names = [\"John\",\"Bob\",\"Mosh\",5,6.9]\n",
    "print(names)\n",
    "print(names[0])\n",
    "print(names[-1]) #Display the last element\n",
    "print(names[0:4]) #Range; it does not mutate the list it only returns the new list.\n",
    "\n",
    "names[0] = \"Jon\" #To change data in List.\n",
    "print(names)"
   ]
  },
  {
   "cell_type": "markdown",
   "metadata": {},
   "source": [
    "8.1. List Methods."
   ]
  },
  {
   "cell_type": "markdown",
   "metadata": {},
   "source": [
    "8.1.1. Append() : to add elements at the end of the list."
   ]
  },
  {
   "cell_type": "code",
   "execution_count": 2,
   "metadata": {},
   "outputs": [
    {
     "name": "stdout",
     "output_type": "stream",
     "text": [
      "[1, 2, 3, 4, 5, 6]\n"
     ]
    }
   ],
   "source": [
    "num = [1,2,3,4,5]\n",
    "num.append(6)\n",
    "print(num)"
   ]
  },
  {
   "cell_type": "markdown",
   "metadata": {},
   "source": [
    "8.1.2. Insert() : to add element at the end or at the begining."
   ]
  },
  {
   "cell_type": "markdown",
   "metadata": {},
   "source": [
    "Syntax:- list.insert(index,element)"
   ]
  },
  {
   "cell_type": "code",
   "execution_count": 10,
   "metadata": {},
   "outputs": [
    {
     "name": "stdout",
     "output_type": "stream",
     "text": [
      "[29, 1, 2, 3, 4, 5]\n",
      "[29, 1, 2, 28, 3, 4, 5]\n"
     ]
    }
   ],
   "source": [
    "num = [1,2,3,4,5]\n",
    "num.insert(0,29) # Insert at the begining\n",
    "print(num)\n",
    "num.insert(3,28) # Insert in the middle\n",
    "print(num)"
   ]
  },
  {
   "cell_type": "markdown",
   "metadata": {},
   "source": [
    "8.1.3. Remove() : to remove element from the list."
   ]
  },
  {
   "cell_type": "code",
   "execution_count": 11,
   "metadata": {},
   "outputs": [
    {
     "name": "stdout",
     "output_type": "stream",
     "text": [
      "[1, 2, 4, 5]\n"
     ]
    }
   ],
   "source": [
    "num = [1,2,3,4,5]\n",
    "num.remove(3)\n",
    "print(num)"
   ]
  },
  {
   "cell_type": "markdown",
   "metadata": {},
   "source": [
    "8.1.4. Clear(): to delete elements from the list and remove the list from memory."
   ]
  },
  {
   "cell_type": "code",
   "execution_count": 12,
   "metadata": {},
   "outputs": [
    {
     "name": "stdout",
     "output_type": "stream",
     "text": [
      "[]\n"
     ]
    }
   ],
   "source": [
    "num = [1,2,3,4,5,64]\n",
    "num.clear()\n",
    "print(num)"
   ]
  },
  {
   "cell_type": "markdown",
   "metadata": {},
   "source": [
    "8.1.5. 'in' : to check if that element is present in the list."
   ]
  },
  {
   "cell_type": "code",
   "execution_count": 14,
   "metadata": {},
   "outputs": [
    {
     "name": "stdout",
     "output_type": "stream",
     "text": [
      "False\n"
     ]
    }
   ],
   "source": [
    "num = [1,2,3,5,6,7,8,4]\n",
    "print(88 in num)"
   ]
  },
  {
   "cell_type": "markdown",
   "metadata": {},
   "source": [
    "8.1.6. Len() : this function return sthe length of the string."
   ]
  },
  {
   "cell_type": "code",
   "execution_count": 18,
   "metadata": {},
   "outputs": [
    {
     "name": "stdout",
     "output_type": "stream",
     "text": [
      "9\n"
     ]
    }
   ],
   "source": [
    "num = [1,2,3,4,5,6,7,8,9]\n",
    "print(len(num))"
   ]
  },
  {
   "cell_type": "markdown",
   "metadata": {},
   "source": [
    "9. For loops on List."
   ]
  },
  {
   "cell_type": "code",
   "execution_count": 21,
   "metadata": {},
   "outputs": [
    {
     "name": "stdout",
     "output_type": "stream",
     "text": [
      "1\n",
      "2\n",
      "3\n",
      "4\n",
      "5\n",
      "6\n",
      "7\n",
      "8\n"
     ]
    }
   ],
   "source": [
    "num = [1,2,3,4,5,6,7,8]\n",
    "for item in num:\n",
    "    print(item)\n"
   ]
  },
  {
   "cell_type": "markdown",
   "metadata": {},
   "source": [
    "10. While loop on List"
   ]
  },
  {
   "cell_type": "code",
   "execution_count": 22,
   "metadata": {},
   "outputs": [
    {
     "name": "stdout",
     "output_type": "stream",
     "text": [
      "1\n",
      "2\n",
      "3\n",
      "4\n",
      "5\n",
      "6\n",
      "7\n",
      "8\n"
     ]
    }
   ],
   "source": [
    "i = 0\n",
    "while i < len(num):\n",
    "    print(num[i])\n",
    "    i = i + 1"
   ]
  },
  {
   "cell_type": "markdown",
   "metadata": {},
   "source": [
    "11. Range () : it is used to generate sequence of numbers.Used in For loops."
   ]
  },
  {
   "cell_type": "markdown",
   "metadata": {},
   "source": [
    "    Syntax :- range(start ,end ,jumping factor)"
   ]
  },
  {
   "cell_type": "code",
   "execution_count": 28,
   "metadata": {},
   "outputs": [
    {
     "name": "stdout",
     "output_type": "stream",
     "text": [
      "1\n",
      "3\n",
      "5\n",
      "7\n",
      "9\n"
     ]
    }
   ],
   "source": [
    "num = range(1,10,2)\n",
    "\n",
    "for number in num:\n",
    "    print(number)"
   ]
  },
  {
   "cell_type": "code",
   "execution_count": 30,
   "metadata": {},
   "outputs": [
    {
     "name": "stdout",
     "output_type": "stream",
     "text": [
      "1\n",
      "3\n",
      "5\n",
      "7\n",
      "9\n"
     ]
    }
   ],
   "source": [
    "for number in range(1,10,2): #when you don't want to store numbers in separate variable.\n",
    "    print(number)"
   ]
  },
  {
   "cell_type": "markdown",
   "metadata": {},
   "source": [
    "12. Tuples :"
   ]
  },
  {
   "cell_type": "markdown",
   "metadata": {},
   "source": [
    "They are same as list but are immutable(cannot change it)."
   ]
  },
  {
   "cell_type": "code",
   "execution_count": 34,
   "metadata": {},
   "outputs": [
    {
     "name": "stdout",
     "output_type": "stream",
     "text": [
      "(1, 2, 4, 5, 3, 6, 7, 5, 3, 3, 3)\n",
      "4\n"
     ]
    }
   ],
   "source": [
    "num = (1,2,4,5,3,6,7,5,3,3,3)\n",
    "print(num)\n",
    "print(num.count(3)) #It returns the frequency of the elements repeated in tuple."
   ]
  },
  {
   "cell_type": "markdown",
   "metadata": {},
   "source": [
    "How to write your own function."
   ]
  },
  {
   "cell_type": "code",
   "execution_count": 35,
   "metadata": {},
   "outputs": [
    {
     "name": "stdout",
     "output_type": "stream",
     "text": [
      "Hi There !\n",
      "Pranit !\n"
     ]
    }
   ],
   "source": [
    "def greet():\n",
    "    print(\"Hi There !\")\n",
    "    print(\"Pranit !\")\n",
    "\n",
    "greet()"
   ]
  },
  {
   "cell_type": "markdown",
   "metadata": {},
   "source": [
    "How to use arguments in Python."
   ]
  },
  {
   "cell_type": "markdown",
   "metadata": {},
   "source": [
    "Difference Between Parameters and Arguments."
   ]
  },
  {
   "cell_type": "markdown",
   "metadata": {},
   "source": [
    "    Parameters : Functions passed within the other function."
   ]
  },
  {
   "cell_type": "markdown",
   "metadata": {},
   "source": [
    "    Arguments : They are values of those Parameters."
   ]
  },
  {
   "cell_type": "code",
   "execution_count": 41,
   "metadata": {},
   "outputs": [
    {
     "name": "stdout",
     "output_type": "stream",
     "text": [
      "Hi Pranit Sawant!\n",
      "Welcome to HELL !\n",
      "Hi Aditya Chekkala!\n",
      "Welcome to HELL !\n"
     ]
    }
   ],
   "source": [
    "def greet(first_name ,last_name): # These are Parameters.\n",
    "    print(f\"Hi {first_name} {last_name}!\")\n",
    "    print(\"Welcome to HELL !\")\n",
    "\n",
    "greet(\"Pranit\", \"Sawant\") # These are Arguments.\n",
    "greet(\"Aditya\", \"Chekkala\")"
   ]
  },
  {
   "cell_type": "markdown",
   "metadata": {},
   "source": [
    "Types of Function:"
   ]
  },
  {
   "cell_type": "markdown",
   "metadata": {},
   "source": [
    "1. Perform a task."
   ]
  },
  {
   "cell_type": "code",
   "execution_count": 42,
   "metadata": {},
   "outputs": [
    {
     "name": "stdout",
     "output_type": "stream",
     "text": [
      "Hi there\n"
     ]
    }
   ],
   "source": [
    "def greet():\n",
    "    print(\"Hi there\")\n",
    "\n",
    "greet()"
   ]
  },
  {
   "cell_type": "markdown",
   "metadata": {},
   "source": [
    "2. Return the Value."
   ]
  },
  {
   "cell_type": "code",
   "execution_count": 49,
   "metadata": {},
   "outputs": [],
   "source": [
    "def greet(name):\n",
    "    print(\"Hi{name}\")\n",
    "\n",
    "def get_greet(name):\n",
    "    return f\"Hi{name}\""
   ]
  },
  {
   "cell_type": "markdown",
   "metadata": {},
   "source": [
    "File Handling in Python."
   ]
  },
  {
   "cell_type": "markdown",
   "metadata": {},
   "source": [
    "There are various modes in which we can open files.\n",
    "\n",
    "1.read (r): This mode opens the file for reading only and gives an error if the file does not exist. This is the default mode if no mode is passed as a parameter.\n",
    "\n",
    "2.write (w): This mode opens the file for writing only and creates a new file if the file does not exist.\n",
    "\n",
    "3.append (a): This mode opens the file for appending only and creates a new file if the file does not exist.\n",
    "\n",
    "3.create (x): This mode creates a file and gives an error if the file already exists.\n",
    "\n",
    "4.text (t): Apart from these modes we also need to specify how the file must be handled. t mode is used to handle text files. t refers to the text mode. There is no difference between r and rt or w and wt since text mode is the default. The default mode is 'r' (open for reading text, synonym of 'rt' ).\n",
    "\n",
    "5.binary (b): used to handle binary files (images, pdfs, etc)."
   ]
  },
  {
   "cell_type": "markdown",
   "metadata": {},
   "source": [
    "1. How to read file. read mode is default in file handling."
   ]
  },
  {
   "cell_type": "code",
   "execution_count": 3,
   "metadata": {},
   "outputs": [
    {
     "name": "stdout",
     "output_type": "stream",
     "text": [
      "Learn how to read and write files in Python with this easy-to-follow tutorial. Discover the different methods for handling file input and output, as well as how to work with different file formats. This video is part of our Python tutorial series and is perfect for beginners. Don't miss out on Day #49 of our Python journey!\n",
      "Python is one of the most demanded programming languages in the job market. Surprisingly, it is equally easy to learn and master  Python. This python tutorial for absolute beginners in Hindi series will focus on teaching you python concepts from the ground up. \n"
     ]
    }
   ],
   "source": [
    "f = open('myfile.txt','r') #open the file using variable\n",
    "text = f.read() # after opening the file extract all the content by storing it in some variable such as 'text' in this example.\n",
    "print(text) #print the extracted text.\n",
    "f.close() # always remember to close the opened file."
   ]
  },
  {
   "cell_type": "markdown",
   "metadata": {},
   "source": [
    "2. How to write in the file."
   ]
  },
  {
   "cell_type": "code",
   "execution_count": 7,
   "metadata": {},
   "outputs": [
    {
     "name": "stdout",
     "output_type": "stream",
     "text": [
      "b'Hello World!'\n"
     ]
    }
   ],
   "source": [
    "f = open('myfile2.txt','w') # open the file to write\n",
    "f.write('Hello World!') # write the material in the function itself.\n",
    "\n",
    "# This is to read the myfile2.txt\n",
    "f = open('myfile2.txt','rb') # 'rb' it is for opening img,pdf,etc.\n",
    "text = f.read()\n",
    "print(text)\n",
    "f.close()"
   ]
  },
  {
   "cell_type": "markdown",
   "metadata": {},
   "source": [
    "3. How to Append the file."
   ]
  },
  {
   "cell_type": "code",
   "execution_count": 18,
   "metadata": {},
   "outputs": [
    {
     "name": "stdout",
     "output_type": "stream",
     "text": [
      "Hello World! This Pranit Sawant! This Pranit Sawant! This Pranit Sawant! This Pranit Sawant! This Pranit Sawant! This Pranit Sawant! This Pranit Sawant! This Pranit Sawant! This Pranit Sawant! This Pranit Sawant! This Pranit Sawant!\n"
     ]
    }
   ],
   "source": [
    "f = open('myfile2.txt','a')\n",
    "f.write(' This Pranit Sawant!')\n",
    "\n",
    "# This is to read the myfile2.txt\n",
    "f = open('myfile2.txt','rt') # 'rb' it is for opening img,pdf,etc.\n",
    "text = f.read()\n",
    "print(text)\n",
    "f.close()"
   ]
  },
  {
   "cell_type": "markdown",
   "metadata": {},
   "source": [
    "4. How to close the file by using the 'with' function."
   ]
  },
  {
   "cell_type": "markdown",
   "metadata": {},
   "source": [
    "    This block of code shows how to close the file without using close() function."
   ]
  },
  {
   "cell_type": "code",
   "execution_count": 21,
   "metadata": {},
   "outputs": [
    {
     "name": "stdout",
     "output_type": "stream",
     "text": [
      "Hello World! This Pranit Sawant! This Pranit Sawant! This Pranit Sawant! This Pranit Sawant! This Pranit Sawant! This Pranit Sawant! This Pranit Sawant! This Pranit Sawant! This Pranit Sawant! This Pranit Sawant! This Pranit Sawant!Tablisi Almaktum Al-Jamat Jai Shree Ram!Tablisi Almaktum Al-Jamat Jai Shree Ram!Tablisi Almaktum Al-Jamat Jai Shree Ram!\n"
     ]
    }
   ],
   "source": [
    "with open('myfile2.txt','a') as f:\n",
    "    f.write('Tablisi Almaktum Al-Jamat Jai Shree Ram!')\n",
    "\n",
    "with open('myfile2.txt','rt') as f:\n",
    "    text=f.read()\n",
    "    print(text)"
   ]
  },
  {
   "cell_type": "markdown",
   "metadata": {},
   "source": [
    "    readlines() Method: The difference between readline() and readlines() is as follows."
   ]
  },
  {
   "cell_type": "markdown",
   "metadata": {},
   "source": [
    "a. readline():"
   ]
  },
  {
   "cell_type": "code",
   "execution_count": 31,
   "metadata": {},
   "outputs": [
    {
     "name": "stdout",
     "output_type": "stream",
     "text": [
      "15,26,37\n",
      "\n",
      "16,72,82\n",
      "\n",
      "10,27,38\n"
     ]
    }
   ],
   "source": [
    "f = open('file.txt','r')\n",
    "while True:\n",
    "    line = f.readline()\n",
    "    if not line:\n",
    "        break\n",
    "    print(line)"
   ]
  },
  {
   "cell_type": "markdown",
   "metadata": {},
   "source": [
    "b. readlines():"
   ]
  },
  {
   "cell_type": "code",
   "execution_count": 32,
   "metadata": {},
   "outputs": [
    {
     "name": "stdout",
     "output_type": "stream",
     "text": [
      "['15,26,37\\n', '16,72,82\\n', '10,27,38']\n"
     ]
    }
   ],
   "source": [
    "f = open('file.txt','r')\n",
    "while True:\n",
    "    line = f.readlines()\n",
    "    if not line:\n",
    "        break\n",
    "    print(line)"
   ]
  },
  {
   "cell_type": "code",
   "execution_count": 33,
   "metadata": {},
   "outputs": [
    {
     "name": "stdout",
     "output_type": "stream",
     "text": [
      "Marks of student 1 in Maths is :30\n",
      "Marks of student 1 in English is :52\n",
      "Marks of Student 1 in SS is :74\n",
      "15,26,37\n",
      "\n",
      "Marks of student 2 in Maths is :32\n",
      "Marks of student 2 in English is :144\n",
      "Marks of Student 2 in SS is :164\n",
      "16,72,82\n",
      "\n",
      "Marks of student 3 in Maths is :20\n",
      "Marks of student 3 in English is :54\n",
      "Marks of Student 3 in SS is :76\n",
      "10,27,38\n"
     ]
    }
   ],
   "source": [
    "f = open('file.txt','r')\n",
    "i = 0\n",
    "while True:\n",
    "    i = i + 1\n",
    "    line = f.readline()\n",
    "    if not line:\n",
    "        break\n",
    "    m1 = int(line.split(\",\")[0]) # split function is used to separate the list.[0] is used because the index of the first line in the file is always starts with zero.\n",
    "    m2 = int(line.split(\",\")[1])\n",
    "    m3 = int(line.split(\",\")[2])\n",
    "    print(f\"Marks of student {i} in Maths is :{m1*2}\") # {i} is used to create separate record for each student.\n",
    "    print(f\"Marks of student {i} in English is :{m2*2}\")\n",
    "    print(f\"Marks of Student {i} in SS is :{m3*2}\")\n",
    "\n",
    "    print(line) # This will print after each iteration.\n"
   ]
  },
  {
   "cell_type": "markdown",
   "metadata": {},
   "source": [
    "    writelines():"
   ]
  },
  {
   "cell_type": "code",
   "execution_count": 54,
   "metadata": {},
   "outputs": [
    {
     "name": "stdout",
     "output_type": "stream",
     "text": [
      "['line1\\n', 'line2\\n', 'line3\\n']\n"
     ]
    }
   ],
   "source": [
    "f = open('file2.txt','w')\n",
    "lines = ['line1\\n','line2\\n','line3\\n']\n",
    "f.writelines(lines)\n",
    "\n",
    "with open('myfile.txt','rt') as f:\n",
    "    text = f.readlines()\n",
    "    print(text)\n",
    "\n",
    "f.close()"
   ]
  },
  {
   "cell_type": "markdown",
   "metadata": {},
   "source": [
    "    how to add string onto new line in file."
   ]
  },
  {
   "cell_type": "code",
   "execution_count": 57,
   "metadata": {},
   "outputs": [],
   "source": [
    "f = open('file2.txt','a')\n",
    "lines = ['line4','line5','line6']\n",
    "for line in lines:\n",
    "    f.write(line + '\\n')\n",
    "f.close()"
   ]
  },
  {
   "cell_type": "markdown",
   "metadata": {},
   "source": [
    "lambda(): This Function is used to pass function as an argument into another function."
   ]
  },
  {
   "cell_type": "markdown",
   "metadata": {},
   "source": [
    "    Syntax :- lambda argument : expression"
   ]
  },
  {
   "cell_type": "markdown",
   "metadata": {},
   "source": [
    "    It is used when there is no need to def a small function or when function can be passed as an argument into another function.\n",
    "    It is mostly used in GUI when we apply functions to components. "
   ]
  },
  {
   "cell_type": "code",
   "execution_count": 3,
   "metadata": {},
   "outputs": [
    {
     "name": "stdout",
     "output_type": "stream",
     "text": [
      "10\n"
     ]
    }
   ],
   "source": [
    "def appl(fx,value):\n",
    "    return 6 + fx(value) # fx here is lambda function.\n",
    "\n",
    "print(appl(lambda x : x * x , 2)) #Here lambda is passed as 'fx'in appl() which is function."
   ]
  },
  {
   "cell_type": "code",
   "execution_count": 5,
   "metadata": {},
   "outputs": [
    {
     "name": "stdout",
     "output_type": "stream",
     "text": [
      "12\n",
      "117.0\n"
     ]
    }
   ],
   "source": [
    "cube = lambda x : x * x * x \n",
    "avg = lambda x,y : x + y / 2\n",
    "\n",
    "def appl(fx,value):\n",
    "    return 4 + fx(value)\n",
    "\n",
    "print(appl(cube , 2))\n",
    "print(avg(69 , 96)) # It can also be used as variable in form of function."
   ]
  }
 ],
 "metadata": {
  "kernelspec": {
   "display_name": "Python 3",
   "language": "python",
   "name": "python3"
  },
  "language_info": {
   "codemirror_mode": {
    "name": "ipython",
    "version": 3
   },
   "file_extension": ".py",
   "mimetype": "text/x-python",
   "name": "python",
   "nbconvert_exporter": "python",
   "pygments_lexer": "ipython3",
   "version": "3.11.5"
  }
 },
 "nbformat": 4,
 "nbformat_minor": 2
}
